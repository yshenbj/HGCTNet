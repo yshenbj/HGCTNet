{
 "cells": [
  {
   "cell_type": "code",
   "execution_count": 5,
   "metadata": {},
   "outputs": [],
   "source": [
    "from typing import Tuple\n",
    "import numpy as np\n",
    "import torch\n",
    "import torch.utils.data as data\n",
    "from torch.autograd import Variable\n",
    "from net import HGCTNet"
   ]
  },
  {
   "cell_type": "code",
   "execution_count": 6,
   "metadata": {},
   "outputs": [],
   "source": [
    "# model = HGCTNet(num_classes=2, num_hid=16, depth=2, num_heads=2, hga=True, trans=True)\n",
    "# sigs = Variable(torch.randn(5, 3, 12000))\n",
    "# feas = Variable(torch.randn(5, 53))\n",
    "# estbp = model(sigs, feas)"
   ]
  },
  {
   "cell_type": "code",
   "execution_count": 7,
   "metadata": {},
   "outputs": [],
   "source": [
    "def create_dataset(dataset: np.ndarray, window_size: int) -> Tuple[torch.Tensor]:\n",
    "    \"\"\"\n",
    "    Transform a time series into a prediction dataset.\n",
    "    \"\"\"\n",
    "    x, y = [], []\n",
    "    for i in range(window_size, len(dataset)):\n",
    "        feature = dataset[i - window_size: i].reshape(window_size, -1)\n",
    "        feature = feature / feature.sum(axis=0, keepdims=True)\n",
    "        target = (2 * (dataset[i, :, 3] > dataset[i - 1, :, 0]) - 1) * (dataset[i, :, 3] != dataset[i - 1, :, 0])\n",
    "        x.append(feature)\n",
    "        y.append(target)\n",
    "    x, y = np.array(x, dtype=np.float32), np.array(y, dtype=np.float32)\n",
    "    return torch.Tensor(x), torch.Tensor(y)"
   ]
  },
  {
   "cell_type": "code",
   "execution_count": 12,
   "metadata": {},
   "outputs": [],
   "source": [
    "test_feature = torch.load('test_feature.pt')\n",
    "test_signal = torch.load('test_signal.pt')"
   ]
  },
  {
   "cell_type": "code",
   "execution_count": null,
   "metadata": {},
   "outputs": [],
   "source": [
    "test_feature.shape"
   ]
  },
  {
   "cell_type": "code",
   "execution_count": null,
   "metadata": {},
   "outputs": [],
   "source": [
    "test_signal.shape"
   ]
  },
  {
   "cell_type": "code",
   "execution_count": null,
   "metadata": {},
   "outputs": [],
   "source": [
    "train_x, train_y = create_dataset(row_data[: 1440 * 7 * 4], 1440)\n",
    "valid_x, valid_y = create_dataset(row_data[1440 * (7 * 4 - 1): 1440 * (7 * 4 + 1)], 1440)\n",
    "train_loader = data.DataLoader(data.TensorDataset(train_x, train_y), shuffle=True, batch_size=512, num_workers=12)\n",
    "valid_loader = data.DataLoader(data.TensorDataset(valid_x, valid_y), shuffle=True, batch_size=512, num_workers=12)"
   ]
  },
  {
   "cell_type": "code",
   "execution_count": null,
   "metadata": {},
   "outputs": [],
   "source": []
  }
 ],
 "metadata": {
  "kernelspec": {
   "display_name": "hgct",
   "language": "python",
   "name": "python3"
  },
  "language_info": {
   "codemirror_mode": {
    "name": "ipython",
    "version": 3
   },
   "file_extension": ".py",
   "mimetype": "text/x-python",
   "name": "python",
   "nbconvert_exporter": "python",
   "pygments_lexer": "ipython3",
   "version": "3.11.10"
  }
 },
 "nbformat": 4,
 "nbformat_minor": 2
}
