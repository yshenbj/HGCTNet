{
 "cells": [
  {
   "cell_type": "code",
   "execution_count": 1,
   "metadata": {},
   "outputs": [],
   "source": [
    "from typing import Tuple\n",
    "import numpy as np\n",
    "import torch\n",
    "import torch.utils.data as data\n",
    "from torch.autograd import Variable\n",
    "from net import HGCTNet"
   ]
  },
  {
   "cell_type": "code",
   "execution_count": 2,
   "metadata": {},
   "outputs": [],
   "source": [
    "# model = HGCTNet(num_classes=2, num_hid=16, depth=2, num_heads=2, hga=True, trans=True)\n",
    "# sigs = Variable(torch.randn(5, 3, 12000))\n",
    "# feas = Variable(torch.randn(5, 53))\n",
    "# estbp = model(sigs, feas)"
   ]
  },
  {
   "cell_type": "code",
   "execution_count": 3,
   "metadata": {},
   "outputs": [],
   "source": [
    "def create_dataset(dataset: list, window_size: int) -> Tuple[torch.Tensor]:\n",
    "    \"\"\"\n",
    "    Transform a time series into a prediction dataset.\n",
    "    \"\"\"\n",
    "    feature_list, signal_list, bp_list = [], [], []\n",
    "    for i in range(window_size, len(dataset)):\n",
    "        sample = dataset[i - window_size: i]\n",
    "        feature, signal, bp = list(zip(*sample))\n",
    "        feature_list.append(np.stack(feature, dtype=np.float32))\n",
    "        signal_list.append(np.stack(signal, dtype=np.float32))\n",
    "        bp_list.append(np.stack(bp, dtype=np.float32))\n",
    "    return torch.Tensor(np.array(feature_list)), torch.Tensor(np.array(signal_list)), torch.Tensor(np.array(bp_list))"
   ]
  },
  {
   "cell_type": "code",
   "execution_count": 4,
   "metadata": {},
   "outputs": [],
   "source": [
    "train_feature = torch.load('train_feature.pt')[:-3].numpy()\n",
    "train_signal = torch.load('train_signal.pt')[:-3].numpy()\n",
    "train_bp = torch.load('train_bp.pt').numpy()\n",
    "train_dataset = list(zip(train_feature, train_signal, train_bp))\n",
    "\n",
    "test_feature = torch.load('test_feature.pt').numpy()\n",
    "test_signal = torch.load('test_signal.pt').numpy()\n",
    "test_bp = torch.load('test_bp.pt')[:-3].numpy()\n",
    "test_dataset = list(zip(test_feature, test_signal, test_bp))"
   ]
  },
  {
   "cell_type": "code",
   "execution_count": 5,
   "metadata": {},
   "outputs": [
    {
     "name": "stdout",
     "output_type": "stream",
     "text": [
      "(2700, 31)\n",
      "(2700, 3, 24804)\n",
      "(2700, 2)\n",
      "(810, 31)\n",
      "(810, 3, 24804)\n",
      "(810, 2)\n"
     ]
    }
   ],
   "source": [
    "print(train_feature.shape)\n",
    "print(train_signal.shape)\n",
    "print(train_bp.shape)\n",
    "\n",
    "print(test_feature.shape)\n",
    "print(test_signal.shape)\n",
    "print(test_bp.shape)"
   ]
  },
  {
   "cell_type": "code",
   "execution_count": 6,
   "metadata": {},
   "outputs": [],
   "source": [
    "# train_feature, train_signal, train_bp = create_dataset(train_dataset, 100)\n",
    "valid_feature, valid_signal, valid_bp = create_dataset(test_dataset, 100)\n",
    "# train_loader = data.DataLoader(data.TensorDataset(train_feature, train_signal, train_bp), shuffle=True, batch_size=64, num_workers=0)\n",
    "valid_loader = data.DataLoader(data.TensorDataset(valid_feature, valid_signal, valid_bp), shuffle=True, batch_size=64, num_workers=0)"
   ]
  },
  {
   "cell_type": "code",
   "execution_count": null,
   "metadata": {},
   "outputs": [
    {
     "data": {
      "text/plain": [
       "torch.Size([100, 31])"
      ]
     },
     "execution_count": 10,
     "metadata": {},
     "output_type": "execute_result"
    }
   ],
   "source": [
    "valid_feature.shape"
   ]
  },
  {
   "cell_type": "code",
   "execution_count": null,
   "metadata": {},
   "outputs": [
    {
     "name": "stdout",
     "output_type": "stream",
     "text": [
      "torch.Size([64, 31])\n",
      "torch.Size([64, 3, 24804])\n",
      "torch.Size([64, 2])\n"
     ]
    }
   ],
   "source": [
    "for idx, (feature, signal, bp) in enumerate(valid_loader):\n",
    "    print(feature.shape)\n",
    "    print(signal.shape)\n",
    "    print(bp.shape)\n",
    "    break"
   ]
  }
 ],
 "metadata": {
  "kernelspec": {
   "display_name": "hgct",
   "language": "python",
   "name": "python3"
  },
  "language_info": {
   "codemirror_mode": {
    "name": "ipython",
    "version": 3
   },
   "file_extension": ".py",
   "mimetype": "text/x-python",
   "name": "python",
   "nbconvert_exporter": "python",
   "pygments_lexer": "ipython3",
   "version": "3.11.10"
  }
 },
 "nbformat": 4,
 "nbformat_minor": 2
}
