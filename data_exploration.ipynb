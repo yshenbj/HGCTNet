{
 "cells": [
  {
   "cell_type": "code",
   "execution_count": 22,
   "metadata": {},
   "outputs": [],
   "source": [
    "import os\n",
    "import numpy as np\n",
    "import pandas as pd"
   ]
  },
  {
   "cell_type": "code",
   "execution_count": 23,
   "metadata": {},
   "outputs": [
    {
     "name": "stdout",
     "output_type": "stream",
     "text": [
      "   DIFFERENTIAL_TIME       ECG    PPGCIR    PPGCR    PPGCY   PPGCB\n",
      "0           79878738 -69387965  14186112  8942968  2389048  376472\n",
      "1           79878739 -69521434  14184296  8943688  2389112  376256\n",
      "2           79878740 -69618581  14186400  8943088  2389032  376512\n",
      "3           79878741 -69547236  14185656  8943480  2389080  376560\n",
      "4           79878742 -69353030  14186376  8943864  2389248  376712\n"
     ]
    }
   ],
   "source": [
    "path = './CAS-BP/sample/BA2001/'\n",
    "dir_list = os.listdir(path)\n",
    "data_list = []\n",
    "for dir in dir_list:\n",
    "    data_list.append(pd.read_csv(path + dir + '/ppg_ecg.csv'))\n",
    "row_data = pd.concat(data_list)\n",
    "print(row_data.head())\n",
    "row_data = row_data[['ECG', 'PPGCIR', 'PPGCR', 'PPGCY', 'PPGCB']]"
   ]
  },
  {
   "cell_type": "code",
   "execution_count": 24,
   "metadata": {},
   "outputs": [],
   "source": [
    "np.save('row_data.npy', row_data)"
   ]
  }
 ],
 "metadata": {
  "kernelspec": {
   "display_name": "hgct",
   "language": "python",
   "name": "python3"
  },
  "language_info": {
   "codemirror_mode": {
    "name": "ipython",
    "version": 3
   },
   "file_extension": ".py",
   "mimetype": "text/x-python",
   "name": "python",
   "nbconvert_exporter": "python",
   "pygments_lexer": "ipython3",
   "version": "3.11.10"
  }
 },
 "nbformat": 4,
 "nbformat_minor": 2
}
